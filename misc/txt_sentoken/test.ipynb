{
 "cells": [
  {
   "cell_type": "code",
   "execution_count": 3,
   "metadata": {},
   "outputs": [
    {
     "name": "stdout",
     "output_type": "stream",
     "text": [
      "                                             content  label\n",
      "0  bad . bad . \\nbad . \\nthat one word seems to p...      0\n",
      "1  isn't it the ultimate sign of a movie's cinema...      0\n",
      "2   \" gordy \" is not a movie , it is a 90-minute-...      0\n",
      "3  disconnect the phone line . \\ndon't accept the...      0\n",
      "4  when robert forster found himself famous again...      0\n"
     ]
    }
   ],
   "source": [
    "import os\n",
    "import pandas as pd\n",
    "\n",
    "# Define the paths to the neg and pos folders\n",
    "neg_folder_path = './neg'\n",
    "pos_folder_path = './pos'\n",
    "\n",
    "# Function to read text files from a folder and return a list of dictionaries\n",
    "def read_files_from_folder(folder_path, label):\n",
    "    data = []\n",
    "    for filename in os.listdir(folder_path):\n",
    "        file_path = os.path.join(folder_path, filename)\n",
    "        with open(file_path, 'r', encoding='utf-8') as file:\n",
    "            content = file.read()\n",
    "            data.append({'content': content, 'label': label})\n",
    "    return data\n",
    "\n",
    "# Read files from neg and pos folders\n",
    "neg_data = read_files_from_folder(neg_folder_path, 0)\n",
    "pos_data = read_files_from_folder(pos_folder_path, 1)\n",
    "\n",
    "# Combine the data from both folders\n",
    "combined_data = neg_data + pos_data\n",
    "\n",
    "# Create a pandas DataFrame\n",
    "df = pd.DataFrame(combined_data)\n",
    "\n",
    "# Display the DataFrame\n",
    "print(df.head())\n"
   ]
  },
  {
   "cell_type": "code",
   "execution_count": 4,
   "metadata": {},
   "outputs": [
    {
     "data": {
      "text/html": [
       "<div>\n",
       "<style scoped>\n",
       "    .dataframe tbody tr th:only-of-type {\n",
       "        vertical-align: middle;\n",
       "    }\n",
       "\n",
       "    .dataframe tbody tr th {\n",
       "        vertical-align: top;\n",
       "    }\n",
       "\n",
       "    .dataframe thead th {\n",
       "        text-align: right;\n",
       "    }\n",
       "</style>\n",
       "<table border=\"1\" class=\"dataframe\">\n",
       "  <thead>\n",
       "    <tr style=\"text-align: right;\">\n",
       "      <th></th>\n",
       "      <th>content</th>\n",
       "      <th>label</th>\n",
       "    </tr>\n",
       "  </thead>\n",
       "  <tbody>\n",
       "    <tr>\n",
       "      <th>1995</th>\n",
       "      <td>one of the funniest carry on movies and the th...</td>\n",
       "      <td>1</td>\n",
       "    </tr>\n",
       "    <tr>\n",
       "      <th>1996</th>\n",
       "      <td>i remember making a pact , right after `patch ...</td>\n",
       "      <td>1</td>\n",
       "    </tr>\n",
       "    <tr>\n",
       "      <th>1997</th>\n",
       "      <td>barely scrapping by playing at a nyc piano bar...</td>\n",
       "      <td>1</td>\n",
       "    </tr>\n",
       "    <tr>\n",
       "      <th>1998</th>\n",
       "      <td>if the current trends of hollywood filmmaking ...</td>\n",
       "      <td>1</td>\n",
       "    </tr>\n",
       "    <tr>\n",
       "      <th>1999</th>\n",
       "      <td>capsule : the director of cure brings a weird ...</td>\n",
       "      <td>1</td>\n",
       "    </tr>\n",
       "  </tbody>\n",
       "</table>\n",
       "</div>"
      ],
      "text/plain": [
       "                                                content  label\n",
       "1995  one of the funniest carry on movies and the th...      1\n",
       "1996  i remember making a pact , right after `patch ...      1\n",
       "1997  barely scrapping by playing at a nyc piano bar...      1\n",
       "1998  if the current trends of hollywood filmmaking ...      1\n",
       "1999  capsule : the director of cure brings a weird ...      1"
      ]
     },
     "execution_count": 4,
     "metadata": {},
     "output_type": "execute_result"
    }
   ],
   "source": [
    "df.tail()"
   ]
  },
  {
   "cell_type": "code",
   "execution_count": 5,
   "metadata": {},
   "outputs": [],
   "source": [
    "# save as csv\n",
    "df.to_csv('movie-review.csv', index=False)"
   ]
  },
  {
   "cell_type": "code",
   "execution_count": null,
   "metadata": {},
   "outputs": [],
   "source": []
  }
 ],
 "metadata": {
  "kernelspec": {
   "display_name": "phdwork",
   "language": "python",
   "name": "python3"
  },
  "language_info": {
   "codemirror_mode": {
    "name": "ipython",
    "version": 3
   },
   "file_extension": ".py",
   "mimetype": "text/x-python",
   "name": "python",
   "nbconvert_exporter": "python",
   "pygments_lexer": "ipython3",
   "version": "3.9.16"
  }
 },
 "nbformat": 4,
 "nbformat_minor": 2
}
